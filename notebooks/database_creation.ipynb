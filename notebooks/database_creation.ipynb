{
 "cells": [
  {
   "cell_type": "markdown",
   "id": "d30069d9",
   "metadata": {},
   "source": [
    "# Purpose #\n",
    "Students have the option of using Pandas and SQL to complete this project. A Phase 1 project done completely in pandas, completely in SQL, or a mixture of the two can all be considered a fine Phase 1 project. This notebook serves as a resource for setting up an SQL database for students who wish to use SQL in their Phase 1 project.\n",
    "\n",
    "To create the movies.db database, run the code cells below.\n",
    "\n",
    "The Entity Relational Diagram is below"
   ]
  },
  {
   "cell_type": "code",
   "execution_count": 1,
   "id": "4683fc09",
   "metadata": {},
   "outputs": [],
   "source": [
    "import os"
   ]
  },
  {
   "cell_type": "code",
   "execution_count": 2,
   "id": "dba385ac",
   "metadata": {},
   "outputs": [],
   "source": [
    "os.chdir('../src')"
   ]
  },
  {
   "cell_type": "code",
   "execution_count": null,
   "id": "ac424daa",
   "metadata": {},
   "outputs": [],
   "source": []
  }
 ],
 "metadata": {
  "kernelspec": {
   "display_name": "Python 3 (ipykernel)",
   "language": "python",
   "name": "python3"
  },
  "language_info": {
   "codemirror_mode": {
    "name": "ipython",
    "version": 3
   },
   "file_extension": ".py",
   "mimetype": "text/x-python",
   "name": "python",
   "nbconvert_exporter": "python",
   "pygments_lexer": "ipython3",
   "version": "3.9.7"
  }
 },
 "nbformat": 4,
 "nbformat_minor": 5
}
